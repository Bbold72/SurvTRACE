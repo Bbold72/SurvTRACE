{
 "cells": [
  {
   "cell_type": "code",
   "execution_count": 107,
   "metadata": {},
   "outputs": [],
   "source": [
    "import numpy as np\n",
    "from easydict import EasyDict\n",
    "from collections import defaultdict\n",
    "from sksurv.metrics import concordance_index_ipcw\n",
    "\n",
    "import torch # For building the networks \n",
    "import torchtuples as tt # Some useful functions\n",
    "\n",
    "from pycox.models import DeepHitSingle\n",
    "\n",
    "from survtrace.dataset import load_data"
   ]
  },
  {
   "cell_type": "code",
   "execution_count": 108,
   "metadata": {},
   "outputs": [],
   "source": [
    "np.random.seed(1234)\n",
    "_ = torch.manual_seed(123)"
   ]
  },
  {
   "cell_type": "code",
   "execution_count": 109,
   "metadata": {},
   "outputs": [],
   "source": [
    "\n",
    "# define the setup parameters\n",
    "pc_hazard_config = EasyDict({\n",
    "    'data': 'metabric',\n",
    "    'horizons': [.25, .5, .75],\n",
    "    'batch_size': 64,\n",
    "    'learning_rate': 0.01,\n",
    "    'epochs': 50,\n",
    "    'hidden_size': 32\n",
    "})\n",
    "pc_hazard_config = EasyDict({\n",
    "    'data': 'support',\n",
    "    'horizons': [.25, .5, .75],\n",
    "    'batch_size': 128,\n",
    "    'learning_rate': 0.01,\n",
    "    'epochs': 50,\n",
    "    'hidden_size': 32\n",
    "})\n",
    "\n",
    "# load data\n",
    "df, df_train, df_y_train, df_test, df_y_test, df_val, df_y_val = load_data(pc_hazard_config)\n",
    "\n",
    "\n",
    "x_train = np.array(df_train, dtype='float32')\n",
    "x_val = np.array(df_val, dtype='float32')\n",
    "x_test = np.array(df_test, dtype='float32')\n",
    "\n",
    "y_df_to_tuple = lambda df: tuple([np.array(df['duration'], dtype='int64'), np.array(df['event'], dtype='float32')])\n",
    "\n",
    "y_train = y_df_to_tuple(df_y_train)\n",
    "y_val = y_df_to_tuple(df_y_val)"
   ]
  },
  {
   "cell_type": "code",
   "execution_count": 110,
   "metadata": {},
   "outputs": [
    {
     "data": {
      "text/plain": [
       "array([[ 1.        ,  4.        , 13.        , ...,  0.7305259 ,\n",
       "         0.71663004, -0.3993534 ],\n",
       "       [ 1.        ,  6.        , 15.        , ..., -0.4226419 ,\n",
       "        -0.39424053, -0.57641363],\n",
       "       [ 0.        ,  3.        , 13.        , ...,  1.389479  ,\n",
       "        -1.3216099 , -0.81252986],\n",
       "       ...,\n",
       "       [ 0.        ,  6.        , 13.        , ..., -0.4226419 ,\n",
       "         0.06957006, -0.16312902],\n",
       "       [ 0.        ,  3.        , 13.        , ..., -0.9168567 ,\n",
       "        -0.49123633, -0.16312902],\n",
       "       [ 1.        ,  5.        , 14.        , ..., -0.4226419 ,\n",
       "         0.86744225, -0.28131327]], dtype=float32)"
      ]
     },
     "execution_count": 110,
     "metadata": {},
     "output_type": "execute_result"
    }
   ],
   "source": [
    "x_train"
   ]
  },
  {
   "cell_type": "code",
   "execution_count": 111,
   "metadata": {},
   "outputs": [
    {
     "data": {
      "text/plain": [
       "(array([1, 3, 0, ..., 1, 0, 3]),\n",
       " array([1., 0., 1., ..., 1., 1., 0.], dtype=float32))"
      ]
     },
     "execution_count": 111,
     "metadata": {},
     "output_type": "execute_result"
    }
   ],
   "source": [
    "y_train"
   ]
  },
  {
   "cell_type": "code",
   "execution_count": 112,
   "metadata": {},
   "outputs": [],
   "source": [
    "hidden_size = pc_hazard_config.hidden_size\n",
    "batch_norm = True\n",
    "dropout = 0.1\n",
    "\n",
    "net = torch.nn.Sequential(\n",
    "    torch.nn.Linear(pc_hazard_config.num_feature, hidden_size),\n",
    "    torch.nn.ReLU(),\n",
    "    torch.nn.BatchNorm1d(hidden_size),\n",
    "    torch.nn.Dropout(0.1),\n",
    "    \n",
    "    torch.nn.Linear(hidden_size, hidden_size),\n",
    "    torch.nn.ReLU(),\n",
    "    torch.nn.BatchNorm1d(hidden_size),\n",
    "    torch.nn.Dropout(0.1),\n",
    "    \n",
    "    torch.nn.Linear(hidden_size, pc_hazard_config.out_feature)\n",
    ")"
   ]
  },
  {
   "cell_type": "code",
   "execution_count": 113,
   "metadata": {},
   "outputs": [
    {
     "data": {
      "text/plain": [
       "4"
      ]
     },
     "execution_count": 113,
     "metadata": {},
     "output_type": "execute_result"
    }
   ],
   "source": [
    "pc_hazard_config.out_feature"
   ]
  },
  {
   "cell_type": "code",
   "execution_count": 114,
   "metadata": {},
   "outputs": [],
   "source": [
    "model = DeepHitSingle(net, tt.optim.Adam, alpha=0.2, sigma=0.1, duration_index=np.array(pc_hazard_config['duration_index'], dtype='float32'))\n",
    "model.optimizer.set_lr(pc_hazard_config.learning_rate)\n",
    "callbacks = [tt.callbacks.EarlyStopping(patience=20)]\n"
   ]
  },
  {
   "cell_type": "code",
   "execution_count": 115,
   "metadata": {},
   "outputs": [
    {
     "name": "stdout",
     "output_type": "stream",
     "text": [
      "0:\t[0s / 0s],\t\ttrain_loss: 0.7066,\tval_loss: 0.6089\n",
      "1:\t[0s / 0s],\t\ttrain_loss: 0.6184,\tval_loss: 0.6142\n",
      "2:\t[0s / 1s],\t\ttrain_loss: 0.6088,\tval_loss: 0.5996\n",
      "3:\t[0s / 1s],\t\ttrain_loss: 0.6023,\tval_loss: 0.6126\n",
      "4:\t[0s / 1s],\t\ttrain_loss: 0.5989,\tval_loss: 0.6138\n",
      "5:\t[0s / 2s],\t\ttrain_loss: 0.5969,\tval_loss: 0.5949\n",
      "6:\t[0s / 2s],\t\ttrain_loss: 0.5926,\tval_loss: 0.5982\n",
      "7:\t[0s / 2s],\t\ttrain_loss: 0.5935,\tval_loss: 0.5960\n",
      "8:\t[0s / 3s],\t\ttrain_loss: 0.5926,\tval_loss: 0.5922\n",
      "9:\t[0s / 3s],\t\ttrain_loss: 0.5913,\tval_loss: 0.5906\n",
      "10:\t[0s / 3s],\t\ttrain_loss: 0.5923,\tval_loss: 0.5932\n",
      "11:\t[0s / 3s],\t\ttrain_loss: 0.5904,\tval_loss: 0.5975\n",
      "12:\t[0s / 4s],\t\ttrain_loss: 0.5885,\tval_loss: 0.5971\n",
      "13:\t[0s / 4s],\t\ttrain_loss: 0.5902,\tval_loss: 0.5926\n",
      "14:\t[0s / 4s],\t\ttrain_loss: 0.5867,\tval_loss: 0.6043\n",
      "15:\t[0s / 5s],\t\ttrain_loss: 0.5874,\tval_loss: 0.5891\n",
      "16:\t[0s / 5s],\t\ttrain_loss: 0.5860,\tval_loss: 0.5907\n",
      "17:\t[0s / 5s],\t\ttrain_loss: 0.5859,\tval_loss: 0.5932\n",
      "18:\t[0s / 5s],\t\ttrain_loss: 0.5862,\tval_loss: 0.5947\n",
      "19:\t[0s / 6s],\t\ttrain_loss: 0.5851,\tval_loss: 0.6073\n",
      "20:\t[0s / 6s],\t\ttrain_loss: 0.5858,\tval_loss: 0.5901\n",
      "21:\t[0s / 6s],\t\ttrain_loss: 0.5875,\tval_loss: 0.5901\n",
      "22:\t[0s / 7s],\t\ttrain_loss: 0.5860,\tval_loss: 0.5912\n",
      "23:\t[0s / 7s],\t\ttrain_loss: 0.5819,\tval_loss: 0.6032\n",
      "24:\t[0s / 7s],\t\ttrain_loss: 0.5855,\tval_loss: 0.5888\n",
      "25:\t[0s / 7s],\t\ttrain_loss: 0.5830,\tval_loss: 0.5907\n",
      "26:\t[0s / 8s],\t\ttrain_loss: 0.5845,\tval_loss: 0.5922\n",
      "27:\t[0s / 8s],\t\ttrain_loss: 0.5844,\tval_loss: 0.5892\n",
      "28:\t[0s / 8s],\t\ttrain_loss: 0.5856,\tval_loss: 0.5888\n",
      "29:\t[0s / 9s],\t\ttrain_loss: 0.5845,\tval_loss: 0.5866\n",
      "30:\t[0s / 9s],\t\ttrain_loss: 0.5838,\tval_loss: 0.5948\n",
      "31:\t[0s / 9s],\t\ttrain_loss: 0.5813,\tval_loss: 0.5892\n",
      "32:\t[0s / 9s],\t\ttrain_loss: 0.5838,\tval_loss: 0.5945\n",
      "33:\t[0s / 10s],\t\ttrain_loss: 0.5829,\tval_loss: 0.5931\n",
      "34:\t[0s / 10s],\t\ttrain_loss: 0.5835,\tval_loss: 0.5918\n",
      "35:\t[0s / 11s],\t\ttrain_loss: 0.5830,\tval_loss: 0.5935\n",
      "36:\t[0s / 11s],\t\ttrain_loss: 0.5843,\tval_loss: 0.5887\n",
      "37:\t[0s / 11s],\t\ttrain_loss: 0.5830,\tval_loss: 0.5907\n",
      "38:\t[0s / 12s],\t\ttrain_loss: 0.5820,\tval_loss: 0.5873\n",
      "39:\t[0s / 12s],\t\ttrain_loss: 0.5831,\tval_loss: 0.5883\n",
      "40:\t[0s / 12s],\t\ttrain_loss: 0.5828,\tval_loss: 0.5926\n",
      "41:\t[0s / 13s],\t\ttrain_loss: 0.5838,\tval_loss: 0.5894\n",
      "42:\t[0s / 13s],\t\ttrain_loss: 0.5832,\tval_loss: 0.5908\n",
      "43:\t[0s / 13s],\t\ttrain_loss: 0.5830,\tval_loss: 0.6558\n",
      "44:\t[0s / 14s],\t\ttrain_loss: 0.5865,\tval_loss: 0.6102\n",
      "45:\t[0s / 14s],\t\ttrain_loss: 0.5841,\tval_loss: 0.5865\n",
      "46:\t[0s / 14s],\t\ttrain_loss: 0.5854,\tval_loss: 0.5945\n",
      "47:\t[0s / 15s],\t\ttrain_loss: 0.5844,\tval_loss: 0.5869\n",
      "48:\t[0s / 15s],\t\ttrain_loss: 0.5842,\tval_loss: 0.5886\n",
      "49:\t[0s / 16s],\t\ttrain_loss: 0.5830,\tval_loss: 0.5957\n"
     ]
    }
   ],
   "source": [
    "log = model.fit(x_train, y_train, pc_hazard_config.batch_size, pc_hazard_config.epochs, callbacks, val_data=tuple([x_val, y_val]))\n"
   ]
  },
  {
   "cell_type": "code",
   "execution_count": 116,
   "metadata": {},
   "outputs": [
    {
     "data": {
      "image/png": "[encoded data removed]",
      "text/plain": [
       "<Figure size 432x288 with 1 Axes>"
      ]
     },
     "metadata": {
      "needs_background": "light"
     },
     "output_type": "display_data"
    }
   ],
   "source": [
    "_ = log.plot()"
   ]
  },
  {
   "cell_type": "code",
   "execution_count": 117,
   "metadata": {},
   "outputs": [],
   "source": [
    "class Evaluator:\n",
    "    def __init__(self, df, train_index):\n",
    "        '''the input duration_train should be the raw durations (continuous),\n",
    "        NOT the discrete index of duration.\n",
    "        '''\n",
    "        self.df_train_all = df.loc[train_index]\n",
    "\n",
    "    def eval_single(self, model, test_set, config, val_batch_size=None):\n",
    "        df_train_all = self.df_train_all\n",
    "        get_target = lambda df: (df['duration'].values, df['event'].values)\n",
    "        durations_train, events_train = get_target(df_train_all)\n",
    "        print('durations_train', durations_train)\n",
    "        et_train = np.array([(events_train[i], durations_train[i]) for i in range(len(events_train))],\n",
    "                        dtype = [('e', bool), ('t', float)])\n",
    "        print('et_train', et_train)\n",
    "        times = config['duration_index'][1:-1]\n",
    "        print('times', times)\n",
    "        horizons = config['horizons']\n",
    "\n",
    "        df_test, df_y_test = test_set\n",
    "        surv = model.predict_surv(df_test, batch_size=val_batch_size)\n",
    "        risk = np.array((1 - surv))\n",
    "        print('risk', risk)\n",
    "        \n",
    "        durations_test, events_test = get_target(df_y_test)\n",
    "        print('durations_test', durations_test)\n",
    "        print('events_test', events_test)\n",
    "        et_test = np.array([(events_test[i], durations_test[i]) for i in range(len(events_test))],\n",
    "                    dtype = [('e', bool), ('t', float)])\n",
    "        print('et_test', et_test)\n",
    "        metric_dict = defaultdict(list)\n",
    "        cis = []\n",
    "        for i, _ in enumerate(times):\n",
    "            print('iteration', i)\n",
    "            print('risk', risk[:, i])\n",
    "            print(times)\n",
    "            cis.append(\n",
    "                concordance_index_ipcw(et_train, et_test, estimate=risk[:, i], tau=times[i])[0]\n",
    "                )\n",
    "            metric_dict[f'{horizons[i]}_ipcw'] = cis[i]\n",
    "\n",
    "\n",
    "        for horizon in enumerate(horizons):\n",
    "            print(f\"For {horizon[1]} quantile,\")\n",
    "            print(\"TD Concordance Index - IPCW:\", cis[horizon[0]])\n",
    "        \n",
    "        return metric_dict"
   ]
  },
  {
   "cell_type": "code",
   "execution_count": 118,
   "metadata": {},
   "outputs": [
    {
     "name": "stdout",
     "output_type": "stream",
     "text": [
      "durations_train [ 30. 892.   7. ...  36.   6. 879.]\n",
      "et_train [( True,  30.) (False, 892.) ( True,   7.) ... ( True,  36.) ( True,   6.)\n",
      " (False, 879.)]\n",
      "times [ 14.    57.   250.25]\n",
      "risk [[0.2177633  0.38699532 0.53883547 0.6833942 ]\n",
      " [0.2147736  0.3488465  0.5132638  0.6641889 ]\n",
      " [0.19607466 0.35568905 0.5194777  0.6842519 ]\n",
      " ...\n",
      " [0.19536984 0.35115522 0.5187078  0.7301536 ]\n",
      " [0.15776908 0.37403667 0.59437346 0.7732872 ]\n",
      " [0.15216696 0.33073056 0.5043775  0.72474706]]\n",
      "durations_test [  31.  827.   79. ...  640.   51. 1388.]\n",
      "events_test [1 0 1 ... 0 1 1]\n",
      "et_test [( True,   31.) (False,  827.) ( True,   79.) ... (False,  640.)\n",
      " ( True,   51.) ( True, 1388.)]\n",
      "iteration 0\n",
      "risk [0.2177633  0.2147736  0.19607466 ... 0.19536984 0.15776908 0.15216696]\n",
      "[ 14.    57.   250.25]\n",
      "iteration 1\n",
      "risk [0.38699532 0.3488465  0.35568905 ... 0.35115522 0.37403667 0.33073056]\n",
      "[ 14.    57.   250.25]\n",
      "iteration 2\n",
      "risk [0.53883547 0.5132638  0.5194777  ... 0.5187078  0.59437346 0.5043775 ]\n",
      "[ 14.    57.   250.25]\n",
      "For 0.25 quantile,\n",
      "TD Concordance Index - IPCW: 0.6366912258602219\n",
      "For 0.5 quantile,\n",
      "TD Concordance Index - IPCW: 0.5983739780088758\n",
      "For 0.75 quantile,\n",
      "TD Concordance Index - IPCW: 0.5846928426839386\n"
     ]
    },
    {
     "data": {
      "text/plain": [
       "defaultdict(list,\n",
       "            {'0.25_ipcw': 0.6366912258602219,\n",
       "             '0.5_ipcw': 0.5983739780088758,\n",
       "             '0.75_ipcw': 0.5846928426839386})"
      ]
     },
     "execution_count": 118,
     "metadata": {},
     "output_type": "execute_result"
    }
   ],
   "source": [
    "evaluator = Evaluator(df, df_train.index)\n",
    "evaluator.eval_single(model, (x_test, df_y_test), config=pc_hazard_config)"
   ]
  }
 ],
 "metadata": {
  "kernelspec": {
   "display_name": "Python 3",
   "language": "python",
   "name": "python3"
  },
  "language_info": {
   "codemirror_mode": {
    "name": "ipython",
    "version": 3
   },
   "file_extension": ".py",
   "mimetype": "text/x-python",
   "name": "python",
   "nbconvert_exporter": "python",
   "pygments_lexer": "ipython3",
   "version": "3.6.13"
  }
 },
 "nbformat": 4,
 "nbformat_minor": 4
}
