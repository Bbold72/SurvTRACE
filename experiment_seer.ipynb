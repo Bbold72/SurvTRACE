{
 "cells": [
  {
   "cell_type": "markdown",
   "id": "3f1281c7",
   "metadata": {},
   "source": [
    "# Run SurvTRACE on SEER dataset"
   ]
  },
  {
   "cell_type": "code",
   "execution_count": 1,
   "id": "afd9a31d",
   "metadata": {},
   "outputs": [],
   "source": [
    "'''SEER data comes from https://seer.cancer.gov/data/\n",
    "'''\n",
    "from survtrace.dataset import load_data\n",
    "from survtrace.evaluate_utils import Evaluator\n",
    "from survtrace.utils import set_random_seed\n",
    "from survtrace.model import SurvTraceMulti\n",
    "from survtrace.train_utils import Trainer\n",
    "from survtrace.config import STConfig\n",
    "\n",
    "# define the setup parameters\n",
    "STConfig['data'] = 'seer'\n",
    "STConfig['num_hidden_layers'] = 2\n",
    "STConfig['hidden_size'] = 16\n",
    "STConfig['intermediate_size'] = 64\n",
    "STConfig['num_attention_heads'] = 2\n",
    "STConfig['initializer_range'] = .02\n",
    "STConfig['early_stop_patience'] = 5\n",
    "set_random_seed(STConfig['seed'])\n",
    "\n",
    "hparams = {\n",
    "    'batch_size': 1024,\n",
    "    'weight_decay': 0,\n",
    "    'learning_rate': 1e-4,\n",
    "    'epochs': 100,\n",
    "}"
   ]
  },
  {
   "cell_type": "code",
   "execution_count": 2,
   "id": "1a1b74d3",
   "metadata": {},
   "outputs": [],
   "source": [
    "# load data\n",
    "df, df_train, df_y_train, df_test, df_y_test, df_val, df_y_val = load_data(STConfig)"
   ]
  },
  {
   "cell_type": "code",
   "execution_count": 3,
   "id": "8a214b11",
   "metadata": {},
   "outputs": [],
   "source": [
    "# get model\n",
    "model = SurvTraceMulti(STConfig)"
   ]
  },
  {
   "cell_type": "markdown",
   "id": "bdb39652",
   "metadata": {},
   "source": [
    "## kick off the training"
   ]
  },
  {
   "cell_type": "code",
   "execution_count": 4,
   "id": "0f3cf177",
   "metadata": {},
   "outputs": [
    {
     "name": "stdout",
     "output_type": "stream",
     "text": [
      "use pytorch-cuda for training.\n"
     ]
    },
    {
     "name": "stderr",
     "output_type": "stream",
     "text": [
      "D:\\UIUC_AI_Health\\SurvTRACE\\survtrace\\train_utils.py:208: UserWarning: This overload of add_ is deprecated:\n",
      "\tadd_(Number alpha, Tensor other)\n",
      "Consider using one of the following signatures instead:\n",
      "\tadd_(Tensor other, *, Number alpha) (Triggered internally at  ..\\torch\\csrc\\utils\\python_arg_parser.cpp:1025.)\n",
      "  next_m.mul_(beta1).add_(1 - beta1, grad)\n"
     ]
    },
    {
     "name": "stdout",
     "output_type": "stream",
     "text": [
      "[Train-0]: 2.9641945240448933\n",
      "[Val-0]: 1.9814077615737915\n",
      "[Train-1]: 0.7204283676585372\n",
      "[Val-1]: 0.6945959329605103\n",
      "[Train-2]: 0.6825504732780716\n",
      "[Val-2]: 0.6849672794342041\n",
      "[Train-3]: 0.6769993368054734\n",
      "[Val-3]: 0.6842683553695679\n",
      "[Train-4]: 0.6750199766386122\n",
      "[Val-4]: 0.6799230575561523\n",
      "[Train-5]: 0.67327523515338\n",
      "[Val-5]: 0.6782727837562561\n",
      "[Train-6]: 0.6719713884146035\n",
      "[Val-6]: 0.6769348382949829\n",
      "[Train-7]: 0.6710905238073699\n",
      "[Val-7]: 0.6765552759170532\n",
      "[Train-8]: 0.6704727275436427\n",
      "[Val-8]: 0.6768720149993896\n",
      "EarlyStopping counter: 1 out of 5\n",
      "[Train-9]: 0.669449763030422\n",
      "[Val-9]: 0.6756874918937683\n",
      "[Train-10]: 0.6691256964287791\n",
      "[Val-10]: 0.6752216219902039\n",
      "[Train-11]: 0.6683859139883599\n",
      "[Val-11]: 0.6739037036895752\n",
      "[Train-12]: 0.6683868603641484\n",
      "[Val-12]: 0.6749087572097778\n",
      "EarlyStopping counter: 1 out of 5\n",
      "[Train-13]: 0.6675718284788585\n",
      "[Val-13]: 0.673507571220398\n",
      "[Train-14]: 0.6674971448726394\n",
      "[Val-14]: 0.673939049243927\n",
      "EarlyStopping counter: 1 out of 5\n",
      "[Train-15]: 0.6667733137704888\n",
      "[Val-15]: 0.6734627485275269\n",
      "[Train-16]: 0.6666211033759474\n",
      "[Val-16]: 0.6732335090637207\n",
      "[Train-17]: 0.6663265518185233\n",
      "[Val-17]: 0.672447144985199\n",
      "[Train-18]: 0.6664419212714344\n",
      "[Val-18]: 0.6743324995040894\n",
      "EarlyStopping counter: 1 out of 5\n",
      "[Train-19]: 0.6662146931602841\n",
      "[Val-19]: 0.6738592982292175\n",
      "EarlyStopping counter: 2 out of 5\n",
      "[Train-20]: 0.6661289859385717\n",
      "[Val-20]: 0.672224760055542\n",
      "[Train-21]: 0.6661100199027937\n",
      "[Val-21]: 0.6752310395240784\n",
      "EarlyStopping counter: 1 out of 5\n",
      "[Train-22]: 0.6655362311269151\n",
      "[Val-22]: 0.6727402210235596\n",
      "EarlyStopping counter: 2 out of 5\n",
      "[Train-23]: 0.6655360756277227\n",
      "[Val-23]: 0.6720191836357117\n",
      "[Train-24]: 0.6648161727554944\n",
      "[Val-24]: 0.6719292402267456\n",
      "[Train-25]: 0.665206140604149\n",
      "[Val-25]: 0.6733843088150024\n",
      "EarlyStopping counter: 1 out of 5\n",
      "[Train-26]: 0.6645853059226964\n",
      "[Val-26]: 0.6726152896881104\n",
      "EarlyStopping counter: 2 out of 5\n",
      "[Train-27]: 0.6648328999678293\n",
      "[Val-27]: 0.6720612645149231\n",
      "EarlyStopping counter: 3 out of 5\n",
      "[Train-28]: 0.6644353844276091\n",
      "[Val-28]: 0.6724880933761597\n",
      "EarlyStopping counter: 4 out of 5\n",
      "[Train-29]: 0.6641093496562672\n",
      "[Val-29]: 0.6723611950874329\n",
      "EarlyStopping counter: 5 out of 5\n",
      "early stops at epoch 30\n"
     ]
    }
   ],
   "source": [
    "# initialize a trainer & start training\n",
    "trainer = Trainer(model)\n",
    "train_loss_list, val_loss_list = trainer.fit((df_train, df_y_train), (df_val, df_y_val),\n",
    "        batch_size=hparams['batch_size'],\n",
    "        epochs=hparams['epochs'],\n",
    "        learning_rate=hparams['learning_rate'],\n",
    "        weight_decay=hparams['weight_decay'],\n",
    "        val_batch_size=10000,)"
   ]
  },
  {
   "cell_type": "code",
   "execution_count": 5,
   "id": "95fae954",
   "metadata": {},
   "outputs": [
    {
     "name": "stdout",
     "output_type": "stream",
     "text": [
      "******************************\n",
      "start evaluation\n",
      "******************************\n"
     ]
    },
    {
     "name": "stderr",
     "output_type": "stream",
     "text": [
      "e:\\anaconda3\\envs\\survtrace\\lib\\site-packages\\sksurv\\metrics.py:134: RuntimeWarning: overflow encountered in long_scalars\n",
      "  concordant += n_con\n",
      "e:\\anaconda3\\envs\\survtrace\\lib\\site-packages\\sksurv\\metrics.py:134: RuntimeWarning: overflow encountered in long_scalars\n",
      "  concordant += n_con\n",
      "e:\\anaconda3\\envs\\survtrace\\lib\\site-packages\\sksurv\\metrics.py:134: RuntimeWarning: overflow encountered in long_scalars\n",
      "  concordant += n_con\n"
     ]
    },
    {
     "name": "stdout",
     "output_type": "stream",
     "text": [
      "Event: 0 For 0.25 quantile,\n",
      "TD Concordance Index - IPCW: 0.9054360446472517\n",
      "Brier Score: 0.03556944931818888\n",
      "Event: 0 For 0.5 quantile,\n",
      "TD Concordance Index - IPCW: 0.8831556261217498\n",
      "Brier Score: 0.06044895229135169\n",
      "Event: 0 For 0.75 quantile,\n",
      "TD Concordance Index - IPCW: 0.8652413483065683\n",
      "Brier Score: 0.08204407514522072\n",
      "Event: 1 For 0.25 quantile,\n",
      "TD Concordance Index - IPCW: 0.7997237378939374\n",
      "Brier Score: 0.007855027637038457\n",
      "Event: 1 For 0.5 quantile,\n",
      "TD Concordance Index - IPCW: 0.7895639461300388\n",
      "Brier Score: 0.015905955178805307\n",
      "Event: 1 For 0.75 quantile,\n",
      "TD Concordance Index - IPCW: 0.7722955042907839\n",
      "Brier Score: 0.027555113590624722\n",
      "done\n"
     ]
    }
   ],
   "source": [
    "# evaluate model\n",
    "evaluator = Evaluator(df, df_train.index)\n",
    "evaluator.eval(model, (df_test, df_y_test))\n",
    "print(\"done\")"
   ]
  },
  {
   "cell_type": "code",
   "execution_count": 6,
   "id": "97b7a495",
   "metadata": {},
   "outputs": [
    {
     "ename": "NameError",
     "evalue": "name 'plt' is not defined",
     "output_type": "error",
     "traceback": [
      "\u001b[1;31m---------------------------------------------------------------------------\u001b[0m",
      "\u001b[1;31mNameError\u001b[0m                                 Traceback (most recent call last)",
      "\u001b[1;32m<ipython-input-6-ecc12ff36767>\u001b[0m in \u001b[0;36m<module>\u001b[1;34m\u001b[0m\n\u001b[1;32m----> 1\u001b[1;33m \u001b[0mplt\u001b[0m\u001b[1;33m.\u001b[0m\u001b[0mplot\u001b[0m\u001b[1;33m(\u001b[0m\u001b[0mtrain_loss\u001b[0m\u001b[1;33m,\u001b[0m \u001b[0mlabel\u001b[0m\u001b[1;33m=\u001b[0m\u001b[1;34m'train'\u001b[0m\u001b[1;33m)\u001b[0m\u001b[1;33m\u001b[0m\u001b[1;33m\u001b[0m\u001b[0m\n\u001b[0m\u001b[0;32m      2\u001b[0m \u001b[0mplt\u001b[0m\u001b[1;33m.\u001b[0m\u001b[0mplot\u001b[0m\u001b[1;33m(\u001b[0m\u001b[0mval_loss\u001b[0m\u001b[1;33m,\u001b[0m \u001b[0mlabel\u001b[0m\u001b[1;33m=\u001b[0m\u001b[1;34m'val'\u001b[0m\u001b[1;33m)\u001b[0m\u001b[1;33m\u001b[0m\u001b[1;33m\u001b[0m\u001b[0m\n\u001b[0;32m      3\u001b[0m \u001b[0mplt\u001b[0m\u001b[1;33m.\u001b[0m\u001b[0mlegend\u001b[0m\u001b[1;33m(\u001b[0m\u001b[0mfontsize\u001b[0m\u001b[1;33m=\u001b[0m\u001b[1;36m20\u001b[0m\u001b[1;33m)\u001b[0m\u001b[1;33m\u001b[0m\u001b[1;33m\u001b[0m\u001b[0m\n\u001b[0;32m      4\u001b[0m \u001b[0mplt\u001b[0m\u001b[1;33m.\u001b[0m\u001b[0mxlabel\u001b[0m\u001b[1;33m(\u001b[0m\u001b[1;34m'epoch'\u001b[0m\u001b[1;33m,\u001b[0m\u001b[0mfontsize\u001b[0m\u001b[1;33m=\u001b[0m\u001b[1;36m20\u001b[0m\u001b[1;33m)\u001b[0m\u001b[1;33m\u001b[0m\u001b[1;33m\u001b[0m\u001b[0m\n\u001b[0;32m      5\u001b[0m \u001b[0mplt\u001b[0m\u001b[1;33m.\u001b[0m\u001b[0mylabel\u001b[0m\u001b[1;33m(\u001b[0m\u001b[1;34m'loss'\u001b[0m\u001b[1;33m,\u001b[0m \u001b[0mfontsize\u001b[0m\u001b[1;33m=\u001b[0m\u001b[1;36m20\u001b[0m\u001b[1;33m)\u001b[0m\u001b[1;33m\u001b[0m\u001b[1;33m\u001b[0m\u001b[0m\n",
      "\u001b[1;31mNameError\u001b[0m: name 'plt' is not defined"
     ]
    }
   ],
   "source": [
    "plt.plot(train_loss, label='train')\n",
    "plt.plot(val_loss, label='val')\n",
    "plt.legend(fontsize=20)\n",
    "plt.xlabel('epoch',fontsize=20)\n",
    "plt.ylabel('loss', fontsize=20)\n",
    "plt.show()"
   ]
  }
 ],
 "metadata": {
  "kernelspec": {
   "display_name": "Python 3",
   "language": "python",
   "name": "python3"
  },
  "language_info": {
   "codemirror_mode": {
    "name": "ipython",
    "version": 3
   },
   "file_extension": ".py",
   "mimetype": "text/x-python",
   "name": "python",
   "nbconvert_exporter": "python",
   "pygments_lexer": "ipython3",
   "version": "3.6.13"
  }
 },
 "nbformat": 4,
 "nbformat_minor": 5
}
