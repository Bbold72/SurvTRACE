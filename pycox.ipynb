{
 "cells": [
  {
   "cell_type": "code",
   "execution_count": 47,
   "metadata": {},
   "outputs": [],
   "source": [
    "import numpy as np\n",
    "from easydict import EasyDict\n",
    "from collections import defaultdict\n",
    "from sksurv.metrics import concordance_index_ipcw\n",
    "\n",
    "import torch # For building the networks \n",
    "import torchtuples as tt # Some useful functions\n",
    "\n",
    "from pycox.models import PCHazard\n"
   ]
  },
  {
   "cell_type": "code",
   "execution_count": 48,
   "metadata": {},
   "outputs": [],
   "source": [
    "np.random.seed(1234)\n",
    "_ = torch.manual_seed(123)"
   ]
  },
  {
   "cell_type": "code",
   "execution_count": 49,
   "metadata": {},
   "outputs": [],
   "source": [
    "from survtrace.dataset import load_data\n",
    "\n",
    "# define the setup parameters\n",
    "pc_hazard_config = EasyDict({\n",
    "    'data': 'metabric',\n",
    "    'horizons': [.25, .5, .75],\n",
    "    'batch_size': 64,\n",
    "    'learning_rate': 0.01,\n",
    "    'epochs': 50,\n",
    "    'hidden_size': 32\n",
    "})\n",
    "pc_hazard_config = EasyDict({\n",
    "    'data': 'support',\n",
    "    'horizons': [.25, .5, .75],\n",
    "    'batch_size': 128,\n",
    "    'learning_rate': 0.01,\n",
    "    'epochs': 50,\n",
    "    'hidden_size': 32\n",
    "})\n",
    "pc_hazard_config = EasyDict({\n",
    "    'data': 'seer',\n",
    "    'horizons': [.25, .5, .75],\n",
    "    'batch_size': 1024,\n",
    "    'learning_rate': 0.01,\n",
    "    'epochs': 100,\n",
    "    'hidden_size': 32\n",
    "})\n",
    "event_to_censor = 'event_1'\n",
    "event_to_keep = '0' if event_to_censor.split('_')[1] == '1' else '1'\n",
    "event_to_keep = 'event_' + event_to_keep\n",
    "\n",
    "\n",
    "# load data\n",
    "df, df_train, df_y_train, df_test, df_y_test, df_val, df_y_val = load_data(pc_hazard_config)\n",
    "\n",
    "# censor event\n",
    "censor_event = lambda df: df.drop(event_to_censor, axis=1).rename(columns={event_to_keep: 'event'})\n",
    "\n",
    "df = censor_event(df)\n",
    "df_y_train = censor_event(df_y_train)\n",
    "df_y_val = censor_event(df_y_val)\n",
    "df_y_test = censor_event(df_y_test)\n",
    "\n",
    "\n",
    "x_train = np.array(df_train, dtype='float32')\n",
    "x_val = np.array(df_val, dtype='float32')\n",
    "x_test = np.array(df_test, dtype='float32')\n",
    "\n",
    "y_df_to_tuple = lambda df: tuple([np.array(df['duration'], dtype='int64'), np.array(df['event'], dtype='float32'), np.array(df['proportion'], dtype='float32')])\n",
    "\n",
    "y_train = y_df_to_tuple(df_y_train)\n",
    "y_val = y_df_to_tuple(df_y_val)"
   ]
  },
  {
   "cell_type": "code",
   "execution_count": 50,
   "metadata": {},
   "outputs": [
    {
     "data": {
      "text/plain": [
       "{'data': 'seer',\n",
       " 'horizons': [0.25, 0.5, 0.75],\n",
       " 'batch_size': 1024,\n",
       " 'learning_rate': 0.01,\n",
       " 'epochs': 100,\n",
       " 'hidden_size': 32,\n",
       " 'num_event': 2,\n",
       " 'labtrans': <survtrace.utils.LabelTransform at 0x7fbd7a6e68d0>,\n",
       " 'num_numerical_feature': 4,\n",
       " 'num_categorical_feature': 14,\n",
       " 'num_feature': 18,\n",
       " 'vocab_size': 185,\n",
       " 'duration_index': array([  0.,  17.,  34.,  58., 121.]),\n",
       " 'out_feature': 4}"
      ]
     },
     "execution_count": 50,
     "metadata": {},
     "output_type": "execute_result"
    }
   ],
   "source": [
    "pc_hazard_config"
   ]
  },
  {
   "cell_type": "code",
   "execution_count": 51,
   "metadata": {},
   "outputs": [],
   "source": [
    "hidden_size = pc_hazard_config.hidden_size\n",
    "batch_norm = True\n",
    "dropout = 0.1\n",
    "\n",
    "net = torch.nn.Sequential(\n",
    "    torch.nn.Linear(pc_hazard_config.num_feature, hidden_size),\n",
    "    torch.nn.ReLU(),\n",
    "    torch.nn.BatchNorm1d(hidden_size),\n",
    "    torch.nn.Dropout(0.1),\n",
    "    \n",
    "    torch.nn.Linear(hidden_size, hidden_size),\n",
    "    torch.nn.ReLU(),\n",
    "    torch.nn.BatchNorm1d(hidden_size),\n",
    "    torch.nn.Dropout(0.1),\n",
    "    \n",
    "    torch.nn.Linear(hidden_size, pc_hazard_config.out_feature)\n",
    ")"
   ]
  },
  {
   "cell_type": "code",
   "execution_count": 52,
   "metadata": {},
   "outputs": [],
   "source": [
    "model = PCHazard(net, tt.optim.Adam, duration_index=np.array(pc_hazard_config['duration_index'], dtype='float32'))\n",
    "model.optimizer.set_lr(pc_hazard_config.learning_rate)"
   ]
  },
  {
   "cell_type": "code",
   "execution_count": 53,
   "metadata": {},
   "outputs": [
    {
     "name": "stdout",
     "output_type": "stream",
     "text": [
      "0:\t[2s / 2s],\t\ttrain_loss: 0.6240,\tval_loss: 3.4523\n",
      "1:\t[2s / 4s],\t\ttrain_loss: 0.5200,\tval_loss: 1.2993\n",
      "2:\t[2s / 6s],\t\ttrain_loss: 0.5168,\tval_loss: 0.5596\n",
      "3:\t[2s / 8s],\t\ttrain_loss: 0.5158,\tval_loss: 15.3204\n",
      "4:\t[2s / 10s],\t\ttrain_loss: 0.5152,\tval_loss: 3.6082\n",
      "5:\t[2s / 12s],\t\ttrain_loss: 0.5146,\tval_loss: 0.9026\n",
      "6:\t[2s / 15s],\t\ttrain_loss: 0.5145,\tval_loss: 1.3569\n",
      "7:\t[2s / 17s],\t\ttrain_loss: 0.5138,\tval_loss: 1.7613\n"
     ]
    }
   ],
   "source": [
    "callbacks = [tt.callbacks.EarlyStopping(patience=5)]\n",
    "log = model.fit(x_train, y_train, pc_hazard_config.batch_size, pc_hazard_config.epochs, callbacks, val_data=tuple([x_val, y_val]))\n"
   ]
  },
  {
   "cell_type": "code",
   "execution_count": 54,
   "metadata": {},
   "outputs": [
    {
     "data": {
      "text/plain": [
       "<AxesSubplot:>"
      ]
     },
     "execution_count": 54,
     "metadata": {},
     "output_type": "execute_result"
    },
    {
     "data": {
      "image/png": "[encoded data removed]",
      "text/plain": [
       "<Figure size 432x288 with 1 Axes>"
      ]
     },
     "metadata": {
      "needs_background": "light"
     },
     "output_type": "display_data"
    }
   ],
   "source": [
    "log.plot()"
   ]
  },
  {
   "cell_type": "code",
   "execution_count": 55,
   "metadata": {},
   "outputs": [],
   "source": [
    "class Evaluator:\n",
    "    def __init__(self, df, train_index):\n",
    "        '''the input duration_train should be the raw durations (continuous),\n",
    "        NOT the discrete index of duration.\n",
    "        '''\n",
    "        self.df_train_all = df.loc[train_index]\n",
    "\n",
    "    def eval_single(self, model, test_set, config, val_batch_size=None):\n",
    "        df_train_all = self.df_train_all\n",
    "        get_target = lambda df: (df['duration'].values, df['event'].values)\n",
    "        durations_train, events_train = get_target(df_train_all)\n",
    "        print('durations_train', durations_train)\n",
    "        et_train = np.array([(events_train[i], durations_train[i]) for i in range(len(events_train))],\n",
    "                        dtype = [('e', bool), ('t', float)])\n",
    "        print('et_train', et_train)\n",
    "        times = config['duration_index'][1:-1]\n",
    "        print('times', times)\n",
    "        horizons = config['horizons']\n",
    "\n",
    "        df_test, df_y_test = test_set\n",
    "        surv = model.predict_surv_df(df_test, batch_size=val_batch_size)\n",
    "        risk = np.array((1 - surv).transpose())\n",
    "        print('risk', risk)\n",
    "        \n",
    "        durations_test, events_test = get_target(df_y_test)\n",
    "        print('durations_test', durations_test)\n",
    "        print('events_test', events_test)\n",
    "        et_test = np.array([(events_test[i], durations_test[i]) for i in range(len(events_test))],\n",
    "                    dtype = [('e', bool), ('t', float)])\n",
    "        print('et_test', et_test)\n",
    "        metric_dict = defaultdict(list)\n",
    "        cis = []\n",
    "        for i, _ in enumerate(times):\n",
    "            print('iteration', i)\n",
    "            print('risk', risk[:, i+1])\n",
    "            print(times)\n",
    "            cis.append(\n",
    "                concordance_index_ipcw(et_train, et_test, estimate=risk[:, i+1], tau=times[i])[0]\n",
    "                )\n",
    "            metric_dict[f'{horizons[i]}_ipcw'] = cis[i]\n",
    "\n",
    "\n",
    "        for horizon in enumerate(horizons):\n",
    "            print(f\"For {horizon[1]} quantile,\")\n",
    "            print(\"TD Concordance Index - IPCW:\", cis[horizon[0]])\n",
    "        \n",
    "        return metric_dict"
   ]
  },
  {
   "cell_type": "code",
   "execution_count": 56,
   "metadata": {},
   "outputs": [
    {
     "name": "stdout",
     "output_type": "stream",
     "text": [
      "durations_train [81  7 28 ... 78 78 91]\n",
      "et_train [( True, 81.) (False,  7.) ( True, 28.) ... (False, 78.) (False, 78.)\n",
      " ( True, 91.)]\n",
      "times [17. 34. 58.]\n",
      "risk [[0.         0.00582242 0.01448697 0.03341699 0.0749746 ]\n",
      " [0.         0.04177898 0.09161717 0.14726442 0.20371646]\n",
      " [0.         0.01569033 0.03402817 0.07232696 0.14274108]\n",
      " ...\n",
      " [0.         0.30741554 0.5165989  0.74022365 0.9421369 ]\n",
      " [0.         0.0123412  0.02893955 0.07075417 0.26803643]\n",
      " [0.         0.46722043 0.6786625  0.8483269  0.96571356]]\n",
      "durations_test [ 51  69  69 ...  50 108   9]\n",
      "events_test [0. 0. 0. ... 1. 1. 1.]\n",
      "et_test [(False,  51.) (False,  69.) (False,  69.) ... ( True,  50.) ( True, 108.)\n",
      " ( True,   9.)]\n",
      "iteration 0\n",
      "risk [0.00582242 0.04177898 0.01569033 ... 0.30741554 0.0123412  0.46722043]\n",
      "[17. 34. 58.]\n",
      "iteration 1\n",
      "risk [0.01448697 0.09161717 0.03402817 ... 0.5165989  0.02893955 0.6786625 ]\n",
      "[17. 34. 58.]\n",
      "iteration 2\n",
      "risk [0.03341699 0.14726442 0.07232696 ... 0.74022365 0.07075417 0.8483269 ]\n",
      "[17. 34. 58.]\n",
      "For 0.25 quantile,\n",
      "TD Concordance Index - IPCW: 0.862754050951111\n",
      "For 0.5 quantile,\n",
      "TD Concordance Index - IPCW: 0.8207732996320968\n",
      "For 0.75 quantile,\n",
      "TD Concordance Index - IPCW: 0.79185408668684\n"
     ]
    },
    {
     "data": {
      "text/plain": [
       "defaultdict(list,\n",
       "            {'0.25_ipcw': 0.862754050951111,\n",
       "             '0.5_ipcw': 0.8207732996320968,\n",
       "             '0.75_ipcw': 0.79185408668684})"
      ]
     },
     "execution_count": 56,
     "metadata": {},
     "output_type": "execute_result"
    }
   ],
   "source": [
    "evaluator = Evaluator(df, df_train.index)\n",
    "evaluator.eval_single(model, (x_test, df_y_test), config=pc_hazard_config, val_batch_size=10000)"
   ]
  }
 ],
 "metadata": {
  "kernelspec": {
   "display_name": "Python 3",
   "language": "python",
   "name": "python3"
  },
  "language_info": {
   "codemirror_mode": {
    "name": "ipython",
    "version": 3
   },
   "file_extension": ".py",
   "mimetype": "text/x-python",
   "name": "python",
   "nbconvert_exporter": "python",
   "pygments_lexer": "ipython3",
   "version": "3.6.13"
  }
 },
 "nbformat": 4,
 "nbformat_minor": 4
}
