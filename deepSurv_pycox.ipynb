{
 "cells": [
  {
   "cell_type": "code",
   "execution_count": 47,
   "metadata": {},
   "outputs": [],
   "source": [
    "import numpy as np\n",
    "from easydict import EasyDict\n",
    "from collections import defaultdict\n",
    "from sksurv.metrics import concordance_index_ipcw\n",
    "\n",
    "import torch # For building the networks \n",
    "import torchtuples as tt # Some useful functions\n",
    "\n",
    "from pycox.models import CoxPH\n"
   ]
  },
  {
   "cell_type": "code",
   "execution_count": 48,
   "metadata": {},
   "outputs": [],
   "source": [
    "np.random.seed(1234)\n",
    "_ = torch.manual_seed(123)"
   ]
  },
  {
   "cell_type": "code",
   "execution_count": 49,
   "metadata": {},
   "outputs": [],
   "source": [
    "from survtrace.dataset import load_data\n",
    "\n",
    "# define the setup parameters\n",
    "pc_hazard_config = EasyDict({\n",
    "    'data': 'metabric',\n",
    "    'horizons': [.25, .5, .75],\n",
    "    'batch_size': 64,\n",
    "    'learning_rate': 0.01,\n",
    "    'epochs': 50,\n",
    "    'hidden_size': 32\n",
    "})\n",
    "pc_hazard_config = EasyDict({\n",
    "    'data': 'support',\n",
    "    'horizons': [.25, .5, .75],\n",
    "    'batch_size': 128,\n",
    "    'learning_rate': 0.01,\n",
    "    'epochs': 50,\n",
    "    'hidden_size': 32\n",
    "})\n",
    "\n",
    "\n",
    "# load data\n",
    "df, df_train, df_y_train, df_test, df_y_test, df_val, df_y_val = load_data(pc_hazard_config)\n",
    "\n",
    "\n",
    "x_train = np.array(df_train, dtype='float32')\n",
    "x_val = np.array(df_val, dtype='float32')\n",
    "x_test = np.array(df_test, dtype='float32')\n",
    "\n",
    "y_df_to_tuple = lambda df: tuple([np.array(df['duration'], dtype='int64'), np.array(df['event'], dtype='float32')])\n",
    "\n",
    "y_train = y_df_to_tuple(df_y_train)\n",
    "y_val = y_df_to_tuple(df_y_val)"
   ]
  },
  {
   "cell_type": "code",
   "execution_count": 50,
   "metadata": {},
   "outputs": [],
   "source": [
    "in_features = x_train.shape[1]\n",
    "num_nodes = [32, 32]\n",
    "out_features = 1\n",
    "batch_norm = True\n",
    "dropout = 0.1\n",
    "output_bias = False\n",
    "\n",
    "net = tt.practical.MLPVanilla(in_features, num_nodes, out_features, batch_norm,\n",
    "                              dropout, output_bias=output_bias)"
   ]
  },
  {
   "cell_type": "code",
   "execution_count": 51,
   "metadata": {},
   "outputs": [],
   "source": [
    "model = CoxPH(net, tt.optim.Adam)\n",
    "model.optimizer.set_lr(0.001)\n",
    "callbacks = [tt.callbacks.EarlyStopping(patience=20)]\n"
   ]
  },
  {
   "cell_type": "code",
   "execution_count": 52,
   "metadata": {},
   "outputs": [
    {
     "name": "stdout",
     "output_type": "stream",
     "text": [
      "0:\t[0s / 0s],\t\ttrain_loss: 4.2731,\tval_loss: 4.1738\n",
      "1:\t[0s / 0s],\t\ttrain_loss: 4.2124,\tval_loss: 4.1636\n",
      "2:\t[0s / 0s],\t\ttrain_loss: 4.1794,\tval_loss: 4.1457\n",
      "3:\t[0s / 0s],\t\ttrain_loss: 4.1817,\tval_loss: 4.1490\n",
      "4:\t[0s / 0s],\t\ttrain_loss: 4.1671,\tval_loss: 4.1430\n",
      "5:\t[0s / 0s],\t\ttrain_loss: 4.1743,\tval_loss: 4.1353\n",
      "6:\t[0s / 0s],\t\ttrain_loss: 4.1551,\tval_loss: 4.1289\n",
      "7:\t[0s / 0s],\t\ttrain_loss: 4.1445,\tval_loss: 4.1292\n",
      "8:\t[0s / 0s],\t\ttrain_loss: 4.1440,\tval_loss: 4.1248\n",
      "9:\t[0s / 1s],\t\ttrain_loss: 4.1395,\tval_loss: 4.1242\n",
      "10:\t[0s / 1s],\t\ttrain_loss: 4.1390,\tval_loss: 4.1229\n",
      "11:\t[0s / 1s],\t\ttrain_loss: 4.1379,\tval_loss: 4.1236\n",
      "12:\t[0s / 1s],\t\ttrain_loss: 4.1425,\tval_loss: 4.1244\n",
      "13:\t[0s / 1s],\t\ttrain_loss: 4.1506,\tval_loss: 4.1263\n",
      "14:\t[0s / 1s],\t\ttrain_loss: 4.1381,\tval_loss: 4.1221\n",
      "15:\t[0s / 1s],\t\ttrain_loss: 4.1373,\tval_loss: 4.1200\n",
      "16:\t[0s / 1s],\t\ttrain_loss: 4.1415,\tval_loss: 4.1208\n",
      "17:\t[0s / 1s],\t\ttrain_loss: 4.1446,\tval_loss: 4.1263\n",
      "18:\t[0s / 2s],\t\ttrain_loss: 4.1339,\tval_loss: 4.1206\n",
      "19:\t[0s / 2s],\t\ttrain_loss: 4.1510,\tval_loss: 4.1194\n",
      "20:\t[0s / 2s],\t\ttrain_loss: 4.1436,\tval_loss: 4.1180\n",
      "21:\t[0s / 2s],\t\ttrain_loss: 4.1477,\tval_loss: 4.1216\n",
      "22:\t[0s / 2s],\t\ttrain_loss: 4.1435,\tval_loss: 4.1211\n",
      "23:\t[0s / 2s],\t\ttrain_loss: 4.1285,\tval_loss: 4.1196\n",
      "24:\t[0s / 2s],\t\ttrain_loss: 4.1358,\tval_loss: 4.1177\n",
      "25:\t[0s / 2s],\t\ttrain_loss: 4.1240,\tval_loss: 4.1153\n",
      "26:\t[0s / 2s],\t\ttrain_loss: 4.1284,\tval_loss: 4.1152\n",
      "27:\t[0s / 2s],\t\ttrain_loss: 4.1361,\tval_loss: 4.1175\n",
      "28:\t[0s / 2s],\t\ttrain_loss: 4.1178,\tval_loss: 4.1113\n",
      "29:\t[0s / 3s],\t\ttrain_loss: 4.1165,\tval_loss: 4.1111\n",
      "30:\t[0s / 3s],\t\ttrain_loss: 4.1260,\tval_loss: 4.1082\n",
      "31:\t[0s / 3s],\t\ttrain_loss: 4.1299,\tval_loss: 4.1122\n",
      "32:\t[0s / 3s],\t\ttrain_loss: 4.1235,\tval_loss: 4.1087\n",
      "33:\t[0s / 3s],\t\ttrain_loss: 4.1329,\tval_loss: 4.1102\n",
      "34:\t[0s / 3s],\t\ttrain_loss: 4.1255,\tval_loss: 4.1056\n",
      "35:\t[0s / 3s],\t\ttrain_loss: 4.1267,\tval_loss: 4.1075\n",
      "36:\t[0s / 3s],\t\ttrain_loss: 4.1318,\tval_loss: 4.1059\n",
      "37:\t[0s / 3s],\t\ttrain_loss: 4.1297,\tval_loss: 4.1089\n",
      "38:\t[0s / 4s],\t\ttrain_loss: 4.1265,\tval_loss: 4.1102\n",
      "39:\t[0s / 4s],\t\ttrain_loss: 4.1167,\tval_loss: 4.1083\n",
      "40:\t[0s / 4s],\t\ttrain_loss: 4.1199,\tval_loss: 4.1044\n",
      "41:\t[0s / 4s],\t\ttrain_loss: 4.1232,\tval_loss: 4.1080\n",
      "42:\t[0s / 4s],\t\ttrain_loss: 4.1318,\tval_loss: 4.1095\n",
      "43:\t[0s / 4s],\t\ttrain_loss: 4.1233,\tval_loss: 4.1144\n",
      "44:\t[0s / 4s],\t\ttrain_loss: 4.1259,\tval_loss: 4.1168\n",
      "45:\t[0s / 4s],\t\ttrain_loss: 4.1203,\tval_loss: 4.1081\n",
      "46:\t[0s / 4s],\t\ttrain_loss: 4.1248,\tval_loss: 4.1096\n",
      "47:\t[0s / 4s],\t\ttrain_loss: 4.1140,\tval_loss: 4.1119\n",
      "48:\t[0s / 4s],\t\ttrain_loss: 4.1332,\tval_loss: 4.1094\n",
      "49:\t[0s / 5s],\t\ttrain_loss: 4.1266,\tval_loss: 4.1145\n",
      "CPU times: user 29.4 s, sys: 788 ms, total: 30.2 s\n",
      "Wall time: 5.04 s\n"
     ]
    }
   ],
   "source": [
    "%%time\n",
    "log = model.fit(x_train, y_train, pc_hazard_config.batch_size, pc_hazard_config.epochs, callbacks, verbose=True, val_data=tuple([x_val, y_val]), val_batch_size=pc_hazard_config.batch_size)"
   ]
  },
  {
   "cell_type": "code",
   "execution_count": 53,
   "metadata": {},
   "outputs": [
    {
     "data": {
      "image/png": "[encoded data removed]",
      "text/plain": [
       "<Figure size 432x288 with 1 Axes>"
      ]
     },
     "metadata": {
      "needs_background": "light"
     },
     "output_type": "display_data"
    }
   ],
   "source": [
    "_ = log.plot()"
   ]
  },
  {
   "cell_type": "markdown",
   "metadata": {},
   "source": [
    "We can get the partial log-likelihood"
   ]
  },
  {
   "cell_type": "code",
   "execution_count": 54,
   "metadata": {},
   "outputs": [],
   "source": [
    "class Evaluator:\n",
    "    def __init__(self, df, train_index):\n",
    "        '''the input duration_train should be the raw durations (continuous),\n",
    "        NOT the discrete index of duration.\n",
    "        '''\n",
    "        self.df_train_all = df.loc[train_index]\n",
    "\n",
    "    def eval_single(self, model, test_set, config, val_batch_size=None):\n",
    "        df_train_all = self.df_train_all\n",
    "        get_target = lambda df: (df['duration'].values, df['event'].values)\n",
    "        durations_train, events_train = get_target(df_train_all)\n",
    "        print('durations_train', durations_train)\n",
    "        et_train = np.array([(events_train[i], durations_train[i]) for i in range(len(events_train))],\n",
    "                        dtype = [('e', bool), ('t', float)])\n",
    "        print('et_train', et_train)\n",
    "        times = config['duration_index'][1:-1]\n",
    "        print('times', times)\n",
    "        horizons = config['horizons']\n",
    "\n",
    "        df_test, df_y_test = test_set\n",
    "        _ = model.compute_baseline_hazards()\n",
    "        surv = model.predict_surv(df_test)\n",
    "        risk = np.array((1 - surv))\n",
    "        print('risk', risk)\n",
    "        \n",
    "        durations_test, events_test = get_target(df_y_test)\n",
    "        print('durations_test', durations_test)\n",
    "        print('events_test', events_test)\n",
    "        et_test = np.array([(events_test[i], durations_test[i]) for i in range(len(events_test))],\n",
    "                    dtype = [('e', bool), ('t', float)])\n",
    "        print('et_test', et_test)\n",
    "        metric_dict = defaultdict(list)\n",
    "        cis = []\n",
    "        for i, _ in enumerate(times):\n",
    "            print('iteration', i)\n",
    "            print('risk', risk[:, i])\n",
    "            print(times)\n",
    "            cis.append(\n",
    "                concordance_index_ipcw(et_train, et_test, estimate=risk[:, i], tau=times[i])[0]\n",
    "                )\n",
    "            metric_dict[f'{horizons[i]}_ipcw'] = cis[i]\n",
    "\n",
    "\n",
    "        for horizon in enumerate(horizons):\n",
    "            print(f\"For {horizon[1]} quantile,\")\n",
    "            print(\"TD Concordance Index - IPCW:\", cis[horizon[0]])\n",
    "        \n",
    "        return metric_dict"
   ]
  },
  {
   "cell_type": "code",
   "execution_count": 55,
   "metadata": {},
   "outputs": [
    {
     "name": "stdout",
     "output_type": "stream",
     "text": [
      "durations_train [ 30. 892.   7. ...  36.   6. 879.]\n",
      "et_train [( True,  30.) (False, 892.) ( True,   7.) ... ( True,  36.) ( True,   6.)\n",
      " (False, 879.)]\n",
      "times [ 14.    57.   250.25]\n",
      "risk [[0.19748926 0.37678933 0.5579516  0.7299253 ]\n",
      " [0.13705331 0.27153373 0.42127556 0.58398837]\n",
      " [0.19218022 0.3678943  0.5470031  0.71911883]\n",
      " ...\n",
      " [0.17784595 0.34354067 0.5164533  0.6881303 ]\n",
      " [0.21640319 0.40793163 0.59539026 0.7656565 ]\n",
      " [0.11740786 0.23542291 0.37086266 0.5243659 ]]\n",
      "durations_test [  31.  827.   79. ...  640.   51. 1388.]\n",
      "events_test [1 0 1 ... 0 1 1]\n",
      "et_test [( True,   31.) (False,  827.) ( True,   79.) ... (False,  640.)\n",
      " ( True,   51.) ( True, 1388.)]\n",
      "iteration 0\n",
      "risk [0.19748926 0.13705331 0.19218022 ... 0.17784595 0.21640319 0.11740786]\n",
      "[ 14.    57.   250.25]\n",
      "iteration 1\n",
      "risk [0.37678933 0.27153373 0.3678943  ... 0.34354067 0.40793163 0.23542291]\n",
      "[ 14.    57.   250.25]\n",
      "iteration 2\n",
      "risk [0.5579516  0.42127556 0.5470031  ... 0.5164533  0.59539026 0.37086266]\n",
      "[ 14.    57.   250.25]\n",
      "For 0.25 quantile,\n",
      "TD Concordance Index - IPCW: 0.5842720628390605\n",
      "For 0.5 quantile,\n",
      "TD Concordance Index - IPCW: 0.5915099336681312\n",
      "For 0.75 quantile,\n",
      "TD Concordance Index - IPCW: 0.6060352211072264\n"
     ]
    },
    {
     "data": {
      "text/plain": [
       "defaultdict(list,\n",
       "            {'0.25_ipcw': 0.5842720628390605,\n",
       "             '0.5_ipcw': 0.5915099336681312,\n",
       "             '0.75_ipcw': 0.6060352211072264})"
      ]
     },
     "execution_count": 55,
     "metadata": {},
     "output_type": "execute_result"
    }
   ],
   "source": [
    "evaluator = Evaluator(df, df_train.index)\n",
    "evaluator.eval_single(model, (x_test, df_y_test), config=pc_hazard_config)"
   ]
  }
 ],
 "metadata": {
  "kernelspec": {
   "display_name": "Python 3",
   "language": "python",
   "name": "python3"
  },
  "language_info": {
   "codemirror_mode": {
    "name": "ipython",
    "version": 3
   },
   "file_extension": ".py",
   "mimetype": "text/x-python",
   "name": "python",
   "nbconvert_exporter": "python",
   "pygments_lexer": "ipython3",
   "version": "3.6.13"
  }
 },
 "nbformat": 4,
 "nbformat_minor": 4
}
